{
	"metadata": {
		"kernelspec": {
			"name": "glue_pyspark",
			"display_name": "Glue PySpark",
			"language": "python"
		},
		"language_info": {
			"name": "Python_Glue_Session",
			"mimetype": "text/x-python",
			"codemirror_mode": {
				"name": "python",
				"version": 3
			},
			"pygments_lexer": "python3",
			"file_extension": ".py"
		}
	},
	"nbformat_minor": 4,
	"nbformat": 4,
	"cells": [
		{
			"cell_type": "markdown",
			"source": "\n# Glue Studio Notebook\nYou are now running a **Glue Studio** notebook; before you can start using your notebook you *must* start an interactive session.\n\n## Available Magics\n|          Magic              |   Type       |                                                                        Description                                                                        |\n|-----------------------------|--------------|-----------------------------------------------------------------------------------------------------------------------------------------------------------|\n| %%configure                 |  Dictionary  |  A json-formatted dictionary consisting of all configuration parameters for a session. Each parameter can be specified here or through individual magics. |\n| %profile                    |  String      |  Specify a profile in your aws configuration to use as the credentials provider.                                                                          |\n| %iam_role                   |  String      |  Specify an IAM role to execute your session with.                                                                                                        |\n| %region                     |  String      |  Specify the AWS region in which to initialize a session.                                                                                                 |\n| %session_id                 |  String      |  Returns the session ID for the running session.                                                                                                          |\n| %connections                |  List        |  Specify a comma separated list of connections to use in the session.                                                                                     |\n| %additional_python_modules  |  List        |  Comma separated list of pip packages, s3 paths or private pip arguments.                                                                                 |\n| %extra_py_files             |  List        |  Comma separated list of additional Python files from S3.                                                                                                 |\n| %extra_jars                 |  List        |  Comma separated list of additional Jars to include in the cluster.                                                                                       |\n| %number_of_workers          |  Integer     |  The number of workers of a defined worker_type that are allocated when a job runs. worker_type must be set too.                                          |\n| %glue_version               |  String      |  The version of Glue to be used by this session. Currently, the only valid options are 2.0 and 3.0 (eg: %glue_version 2.0).                               |\n| %security_config            |  String      |  Define a security configuration to be used with this session.                                                                                            |\n| %sql                        |  String      |  Run SQL code. All lines after the initial %%sql magic will be passed as part of the SQL code.                                                            |\n| %streaming                  |  String      |  Changes the session type to Glue Streaming.                                                                                                              |\n| %etl                        |  String      |  Changes the session type to Glue ETL.                                                                                                                    |\n| %status                     |              |  Returns the status of the current Glue session including its duration, configuration and executing user / role.                                          |\n| %stop_session               |              |  Stops the current session.                                                                                                                               |\n| %list_sessions              |              |  Lists all currently running sessions by name and ID.                                                                                                     |\n| %worker_type                |  String      |  Standard, G.1X, *or* G.2X. number_of_workers must be set too. Default is G.1X.                                                                           |\n| %spark_conf                 |  String      |  Specify custom spark configurations for your session. E.g. %spark_conf spark.serializer=org.apache.spark.serializer.KryoSerializer.                      |",
			"metadata": {
				"editable": false,
				"deletable": false,
				"trusted": true
			}
		},
		{
			"cell_type": "code",
			"source": "import sys\nfrom awsglue.transforms import *\nfrom awsglue.utils import getResolvedOptions\nfrom pyspark.context import SparkContext\nfrom awsglue.context import GlueContext\nfrom awsglue.job import Job\nimport requests as re\nimport pandas as pd\nfrom datetime import datetime\nimport numpy as np",
			"metadata": {
				"editable": true,
				"trusted": true
			},
			"execution_count": 1,
			"outputs": [
				{
					"name": "stdout",
					"text": "Welcome to the Glue Interactive Sessions Kernel\nFor more information on available magic commands, please type %help in any new cell.\n\nPlease view our Getting Started page to access the most up-to-date information on the Interactive Sessions kernel: https://docs.aws.amazon.com/glue/latest/dg/interactive-sessions.html\nInstalled kernel version: 0.37.0 \nAuthenticating with environment variables and user-defined glue_role_arn: arn:aws:iam::642035821867:role/AdministratorAccessforDemo\nTrying to create a Glue session for the kernel.\nWorker Type: G.1X\nNumber of Workers: 5\nSession ID: b651b5da-4b5f-4411-b632-d32847db7417\nJob Type: glueetl\nApplying the following default arguments:\n--glue_kernel_version 0.37.0\n--enable-glue-datacatalog true\nWaiting for session b651b5da-4b5f-4411-b632-d32847db7417 to get into ready status...\nSession b651b5da-4b5f-4411-b632-d32847db7417 has been created.\n\n",
					"output_type": "stream"
				}
			]
		},
		{
			"cell_type": "code",
			"source": "sc = SparkContext.getOrCreate()\nglueContext = GlueContext(sc)\nspark = glueContext.spark_session\njob = Job(glueContext)",
			"metadata": {
				"trusted": true
			},
			"execution_count": 2,
			"outputs": [
				{
					"name": "stdout",
					"text": "\n",
					"output_type": "stream"
				}
			]
		},
		{
			"cell_type": "code",
			"source": "#Current date for file reading\ntoday = datetime.today().strftime('%Y-%m-%d')",
			"metadata": {
				"trusted": true
			},
			"execution_count": 3,
			"outputs": [
				{
					"name": "stdout",
					"text": "\n",
					"output_type": "stream"
				}
			]
		},
		{
			"cell_type": "code",
			"source": "#Load in pr data current 0\npr_current = pd.read_fwf(\"s3://bls-timeseries-data/pr.data.0.Current/\" + today + \"/data.txt\")\n#Load in pop data\npop_data = pd.read_json(\"s3://data-usa/pop_data.json\")",
			"metadata": {
				"trusted": true
			},
			"execution_count": 4,
			"outputs": [
				{
					"name": "stdout",
					"text": "\n",
					"output_type": "stream"
				}
			]
		},
		{
			"cell_type": "code",
			"source": "#Clean pr current values\npr_current['value'] = pr_current['value'].str.replace(\"\\tR\", \"\").astype(float)",
			"metadata": {
				"trusted": true
			},
			"execution_count": 8,
			"outputs": [
				{
					"name": "stdout",
					"text": "\n",
					"output_type": "stream"
				}
			]
		},
		{
			"cell_type": "code",
			"source": "#Calculate the mean & std dev of the us population from 2013 - 2018 inclusive\npop_mean = np.mean(pop_data['Population'])\npop_std_dev = np.std(pop_data['Population'])\n\nprint(\"Population mean = \" + str(pop_mean))\nprint(\"Population Standard Deviation = \" + str(pop_std_dev))",
			"metadata": {
				"trusted": true
			},
			"execution_count": 9,
			"outputs": [
				{
					"name": "stdout",
					"text": "Population mean = 319486425.125\nPopulation Standard Deviation = 4913388.652424171\n",
					"output_type": "stream"
				}
			]
		},
		{
			"cell_type": "code",
			"source": "#Create temp tables - easier to use sql for this\nspark.createDataFrame(pr_current).createOrReplaceTempView(\"pr_curr\")\nspark.createDataFrame(pop_data).createOrReplaceTempView(\"pop_data\")",
			"metadata": {
				"trusted": true
			},
			"execution_count": 10,
			"outputs": [
				{
					"name": "stdout",
					"text": "\n",
					"output_type": "stream"
				}
			]
		},
		{
			"cell_type": "code",
			"source": "max_value = spark.sql(\"select series_id, max(year) as highest_year, max(value) as top_value from pr_curr group by series_id\")\nmax_value.show()",
			"metadata": {
				"trusted": true
			},
			"execution_count": 11,
			"outputs": [
				{
					"name": "stdout",
					"text": "+-----------+------------+---------+\n|  series_id|highest_year|top_value|\n+-----------+------------+---------+\n|PRS85006102|        2022|     25.8|\n|PRS31006023|        2022|    9.954|\n|PRS32006111|        2022|      9.6|\n|PRS84006162|        2022|     15.0|\n|PRS30006152|        2022|     34.6|\n|PRS88003041|        2022|     17.1|\n|PRS88003063|        2022|    9.947|\n|PRS85006173|        2022|    9.991|\n|PRS30006033|        2022|    9.915|\n|PRS32006082|        2020|     16.8|\n|PRS30006082|        2020|     16.4|\n|PRS32006011|        2022|      5.6|\n|PRS84006161|        2022|      6.5|\n|PRS32006162|        2022|     12.9|\n|PRS88003013|        2022|    9.997|\n|PRS30006013|        2022|    9.912|\n|PRS88003033|        2022|    9.907|\n|PRS88003082|        2022|     65.5|\n|PRS88003083|        2022|    9.996|\n|PRS31006131|        2020|      6.8|\n+-----------+------------+---------+\nonly showing top 20 rows\n",
					"output_type": "stream"
				}
			]
		},
		{
			"cell_type": "code",
			"source": "#Check to make sure number of records matches sql query\nspark.sql(\"select series_id, max(year) as highest_year, max(value) as top_value from pr_curr group by series_id\").count()",
			"metadata": {
				"trusted": true
			},
			"execution_count": 12,
			"outputs": [
				{
					"name": "stdout",
					"text": "282\n",
					"output_type": "stream"
				}
			]
		},
		{
			"cell_type": "code",
			"source": "#Check cont.\npr_current['series_id'].drop_duplicates().count()",
			"metadata": {
				"trusted": true
			},
			"execution_count": 13,
			"outputs": [
				{
					"name": "stdout",
					"text": "282\n",
					"output_type": "stream"
				}
			]
		},
		{
			"cell_type": "code",
			"source": "#Join pop data to pr current data and filter for specific value\njoined_dfs_for_report = spark.sql(\"select a.series_id, \\\n          a.year, \\\n          a.period, \\\n          a.value, \\\n          b.Population \\\n          from pr_curr a \\\n          left join pop_data b on a.year = b.Year \\\n          where a.series_id = 'PRS30006032' and a.year = '2018' and a.period = 'Q01'\")\n\njoined_dfs_for_report.show()",
			"metadata": {
				"trusted": true
			},
			"execution_count": 14,
			"outputs": [
				{
					"name": "stdout",
					"text": "+-----------+----+------+-----+----------+\n|  series_id|year|period|value|Population|\n+-----------+----+------+-----+----------+\n|PRS30006032|2018|   Q01| -0.2| 322903030|\n+-----------+----+------+-----+----------+\n",
					"output_type": "stream"
				}
			]
		},
		{
			"cell_type": "code",
			"source": "#making sure value is correct\nspark.sql(\"select a.series_id, \\\n          a.year, \\\n          a.period, \\\n          a.value, \\\n          b.Population \\\n          from pr_curr a \\\n          left join pop_data b on a.year = b.Year \\\n          where a.series_id = 'PRS30006032' and a.year = '2018'\").show()",
			"metadata": {
				"trusted": true
			},
			"execution_count": 15,
			"outputs": [
				{
					"name": "stdout",
					"text": "+-----------+----+------+-----+----------+\n|  series_id|year|period|value|Population|\n+-----------+----+------+-----+----------+\n|PRS30006032|2018|   Q01| -0.2| 322903030|\n|PRS30006032|2018|   Q02|  0.4| 322903030|\n|PRS30006032|2018|   Q03|  5.2| 322903030|\n|PRS30006032|2018|   Q04|  0.5| 322903030|\n|PRS30006032|2018|   Q05|  1.8| 322903030|\n+-----------+----+------+-----+----------+\n",
					"output_type": "stream"
				}
			]
		}
	]
}
